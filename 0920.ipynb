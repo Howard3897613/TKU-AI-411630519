{
  "nbformat": 4,
  "nbformat_minor": 0,
  "metadata": {
    "colab": {
      "provenance": [],
      "authorship_tag": "ABX9TyP1HmNISEGnOa+SLgn6I7Cz",
      "include_colab_link": true
    },
    "kernelspec": {
      "name": "python3",
      "display_name": "Python 3"
    },
    "language_info": {
      "name": "python"
    }
  },
  "cells": [
    {
      "cell_type": "markdown",
      "metadata": {
        "id": "view-in-github",
        "colab_type": "text"
      },
      "source": [
        "<a href=\"https://colab.research.google.com/github/Howard3897613/TKU-AI-411630519/blob/main/0920.ipynb\" target=\"_parent\"><img src=\"https://colab.research.google.com/assets/colab-badge.svg\" alt=\"Open In Colab\"/></a>"
      ]
    },
    {
      "cell_type": "code",
      "execution_count": 2,
      "metadata": {
        "colab": {
          "base_uri": "https://localhost:8080/"
        },
        "id": "2lLZfP3UdayT",
        "outputId": "050e126b-b7a6-4e78-8403-1fcece51b5e7"
      },
      "outputs": [
        {
          "output_type": "stream",
          "name": "stdout",
          "text": [
            "請輸入梯形上底長度：3\n",
            "請輸入梯形下底長度：4\n",
            "請輸入梯形高度：2\n",
            "7.0\n"
          ]
        }
      ],
      "source": [
        "上底 =int(input(\"請輸入梯形上底長度：\"))\n",
        "下底 =int(input(\"請輸入梯形下底長度：\"))\n",
        "高 =int(input(\"請輸入梯形高度：\"))\n",
        "面積 =(上底+下底)*高/2\n",
        "print(面積)"
      ]
    }
  ]
}