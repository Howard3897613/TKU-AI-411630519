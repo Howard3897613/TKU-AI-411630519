{
  "nbformat": 4,
  "nbformat_minor": 0,
  "metadata": {
    "colab": {
      "provenance": [],
      "collapsed_sections": [],
      "authorship_tag": "ABX9TyP0z1m9OoDgEwnuADiIoPLl",
      "include_colab_link": true
    },
    "kernelspec": {
      "name": "python3",
      "display_name": "Python 3"
    },
    "language_info": {
      "name": "python"
    }
  },
  "cells": [
    {
      "cell_type": "markdown",
      "metadata": {
        "id": "view-in-github",
        "colab_type": "text"
      },
      "source": [
        "<a href=\"https://colab.research.google.com/github/Howard3897613/TKU-AI-411630519/blob/main/hello.ipynb\" target=\"_parent\"><img src=\"https://colab.research.google.com/assets/colab-badge.svg\" alt=\"Open In Colab\"/></a>"
      ]
    },
    {
      "cell_type": "code",
      "execution_count": 1,
      "metadata": {
        "colab": {
          "base_uri": "https://localhost:8080/"
        },
        "id": "FQVlPTGATfaT",
        "outputId": "fcaf7eb1-be21-45c2-d97f-2c806e78ab8a"
      },
      "outputs": [
        {
          "output_type": "stream",
          "name": "stdout",
          "text": [
            "哈哈\n"
          ]
        }
      ],
      "source": [
        "print(\"哈哈\")"
      ]
    },
    {
      "cell_type": "code",
      "source": [
        "print(\"AI與程式設計第一次實作\")"
      ],
      "metadata": {
        "id": "JDnhBBzrV7oY"
      },
      "execution_count": null,
      "outputs": []
    }
  ]
}